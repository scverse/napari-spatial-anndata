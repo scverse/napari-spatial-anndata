{
 "cells": [
  {
   "cell_type": "code",
   "execution_count": 1,
   "id": "ec49879e-63e3-4fda-b14a-9d690bf16043",
   "metadata": {},
   "outputs": [
    {
     "name": "stderr",
     "output_type": "stream",
     "text": [
      "/opt/homebrew/lib/python3.9/site-packages/geopandas/_compat.py:123: UserWarning: The Shapely GEOS version (3.11.1-CAPI-1.17.1) is incompatible with the GEOS version PyGEOS was compiled with (3.10.4-CAPI-1.16.2). Conversions between both will be slow.\n",
      "  warnings.warn(\n",
      "/Users/rahulbshrestha/projects/spatialdata/src/spatialdata/__init__.py:9: UserWarning: Geopandas was set to use PyGEOS, changing to shapely 2.0 with:\n",
      "\n",
      "\tgeopandas.options.use_pygeos = True\n",
      "\n",
      "If you intended to use PyGEOS, set the option to False.\n",
      "  _check_geopandas_using_shapely()\n",
      "/opt/homebrew/lib/python3.9/site-packages/tqdm/auto.py:22: TqdmWarning: IProgress not found. Please update jupyter and ipywidgets. See https://ipywidgets.readthedocs.io/en/stable/user_install.html\n",
      "  from .autonotebook import tqdm as notebook_tqdm\n"
     ]
    }
   ],
   "source": [
    "%matplotlib inline\n",
    "import matplotlib.pyplot as plt\n",
    "import numpy as np\n",
    "from napari_spatialdata._interactive import Interactive\n",
    "from spatialdata import SpatialData\n",
    "\n",
    "plt.rcParams['figure.figsize'] = (20, 20)\n",
    "\n",
    "FILE_PATH = \"../../../data/merfish/data.zarr\" # Change this\n",
    "sdata = SpatialData.read(FILE_PATH)"
   ]
  },
  {
   "cell_type": "code",
   "execution_count": 2,
   "id": "3c9377bd-5c4e-4cd3-ab98-1848ee57bcb9",
   "metadata": {},
   "outputs": [
    {
     "data": {
      "text/plain": [
       "SpatialData object with:\n",
       "├── Images\n",
       "│     └── 'rasterized': SpatialImage[cyx] (1, 522, 575)\n",
       "├── Points\n",
       "│     └── 'single_molecule': DataFrame with shape: (3714642, 3) (2D points)\n",
       "├── Shapes\n",
       "│     ├── 'anatomical': GeoDataFrame shape: (6, 1) (2D shapes)\n",
       "│     └── 'cells': GeoDataFrame shape: (2399, 2) (2D shapes)\n",
       "└── Table\n",
       "      └── AnnData object with n_obs × n_vars = 2399 × 268\n",
       "    obs: 'cell_id', 'region'\n",
       "    uns: 'spatialdata_attrs': AnnData (2399, 268)\n",
       "with coordinate systems:\n",
       "▸ 'global', with elements:\n",
       "        rasterized (Images), single_molecule (Points), anatomical (Shapes), cells (Shapes)"
      ]
     },
     "execution_count": 2,
     "metadata": {},
     "output_type": "execute_result"
    }
   ],
   "source": [
    "sdata"
   ]
  },
  {
   "cell_type": "code",
   "execution_count": 27,
   "id": "d2783ba9-bd9b-4185-a4f7-ef358b82471b",
   "metadata": {},
   "outputs": [
    {
     "name": "stdout",
     "output_type": "stream",
     "text": [
      "POINT (1161.11337076 6178.3830543)\n",
      "<class 'shapely.geometry.point.Point'>\n"
     ]
    }
   ],
   "source": [
    "var = sdata.shapes[\"cells\"].geometry[0]\n",
    "\n",
    "\n",
    "print(var)\n",
    "print(type(var))"
   ]
  },
  {
   "cell_type": "code",
   "execution_count": 29,
   "id": "27c95e70-bc73-4ba9-9f49-795172a7d67d",
   "metadata": {},
   "outputs": [
    {
     "name": "stdout",
     "output_type": "stream",
     "text": [
      "POINT (1161.11337076 6178.3830543)\n",
      "7.358295430319473\n"
     ]
    }
   ],
   "source": [
    "print(sdata.shapes[\"cells\"].geometry[0])\n",
    "print(sdata.shapes[\"cells\"].radius[0])"
   ]
  },
  {
   "cell_type": "code",
   "execution_count": 53,
   "id": "0a4cf6db-68fd-46a6-9027-b1ff85557e58",
   "metadata": {},
   "outputs": [
    {
     "ename": "IndexError",
     "evalue": "tuple index out of range",
     "output_type": "error",
     "traceback": [
      "\u001b[0;31m---------------------------------------------------------------------------\u001b[0m",
      "\u001b[0;31mIndexError\u001b[0m                                Traceback (most recent call last)",
      "Input \u001b[0;32mIn [53]\u001b[0m, in \u001b[0;36m<cell line: 15>\u001b[0;34m()\u001b[0m\n\u001b[1;32m     12\u001b[0m data_2 \u001b[38;5;241m=\u001b[39m [((\u001b[38;5;241m1161.11337076\u001b[39m,), (\u001b[38;5;241m6178.3830543\u001b[39m,)), (\u001b[38;5;241m7.358295430319473\u001b[39m,)]\n\u001b[1;32m     14\u001b[0m \u001b[38;5;66;03m# add an ellipse to the viewer\u001b[39;00m\n\u001b[0;32m---> 15\u001b[0m ellipse_layer \u001b[38;5;241m=\u001b[39m \u001b[43mviewer\u001b[49m\u001b[38;5;241;43m.\u001b[39;49m\u001b[43madd_shapes\u001b[49m\u001b[43m(\u001b[49m\n\u001b[1;32m     16\u001b[0m \u001b[43m    \u001b[49m\u001b[43mdata_2\u001b[49m\u001b[43m,\u001b[49m\n\u001b[1;32m     17\u001b[0m \u001b[43m    \u001b[49m\u001b[43mshape_type\u001b[49m\u001b[38;5;241;43m=\u001b[39;49m\u001b[38;5;124;43m'\u001b[39;49m\u001b[38;5;124;43mellipse\u001b[39;49m\u001b[38;5;124;43m'\u001b[39;49m\u001b[43m,\u001b[49m\n\u001b[1;32m     18\u001b[0m \u001b[43m    \u001b[49m\u001b[43medge_width\u001b[49m\u001b[38;5;241;43m=\u001b[39;49m\u001b[38;5;241;43m2\u001b[39;49m\u001b[43m,\u001b[49m\n\u001b[1;32m     19\u001b[0m \u001b[43m    \u001b[49m\u001b[43medge_color\u001b[49m\u001b[38;5;241;43m=\u001b[39;49m\u001b[38;5;124;43m'\u001b[39;49m\u001b[38;5;124;43mred\u001b[39;49m\u001b[38;5;124;43m'\u001b[39;49m\u001b[43m,\u001b[49m\n\u001b[1;32m     20\u001b[0m \u001b[43m    \u001b[49m\u001b[43mface_color\u001b[49m\u001b[38;5;241;43m=\u001b[39;49m\u001b[38;5;124;43m'\u001b[39;49m\u001b[38;5;124;43mtransparent\u001b[39;49m\u001b[38;5;124;43m'\u001b[39;49m\u001b[43m,\u001b[49m\n\u001b[1;32m     21\u001b[0m \u001b[43m)\u001b[49m\n\u001b[1;32m     23\u001b[0m \u001b[38;5;66;03m# show the viewer\u001b[39;00m\n\u001b[1;32m     24\u001b[0m napari\u001b[38;5;241m.\u001b[39mrun()\n",
      "File \u001b[0;32m/opt/homebrew/lib/python3.9/site-packages/napari/components/viewer_model.py:4\u001b[0m, in \u001b[0;36madd_shapes\u001b[0;34m(self, data, ndim, features, properties, property_choices, text, shape_type, edge_width, edge_color, edge_color_cycle, edge_colormap, edge_contrast_limits, face_color, face_color_cycle, face_colormap, face_contrast_limits, z_index, name, metadata, scale, translate, rotate, shear, affine, opacity, blending, visible, cache, experimental_clipping_planes)\u001b[0m\n\u001b[1;32m      1\u001b[0m \u001b[38;5;28;01mfrom\u001b[39;00m \u001b[38;5;21;01m__future__\u001b[39;00m \u001b[38;5;28;01mimport\u001b[39;00m annotations\n\u001b[1;32m      3\u001b[0m \u001b[38;5;28;01mimport\u001b[39;00m \u001b[38;5;21;01minspect\u001b[39;00m\n\u001b[0;32m----> 4\u001b[0m \u001b[38;5;28;01mimport\u001b[39;00m \u001b[38;5;21;01mitertools\u001b[39;00m\n\u001b[1;32m      5\u001b[0m \u001b[38;5;28;01mimport\u001b[39;00m \u001b[38;5;21;01mos\u001b[39;00m\n\u001b[1;32m      6\u001b[0m \u001b[38;5;28;01mimport\u001b[39;00m \u001b[38;5;21;01mwarnings\u001b[39;00m\n",
      "File \u001b[0;32m/opt/homebrew/lib/python3.9/site-packages/napari/layers/shapes/shapes.py:407\u001b[0m, in \u001b[0;36mShapes.__init__\u001b[0;34m(self, data, ndim, features, properties, property_choices, text, shape_type, edge_width, edge_color, edge_color_cycle, edge_colormap, edge_contrast_limits, face_color, face_color_cycle, face_colormap, face_contrast_limits, z_index, name, metadata, scale, translate, rotate, shear, affine, opacity, blending, visible, cache, experimental_clipping_planes)\u001b[0m\n\u001b[1;32m    405\u001b[0m     data \u001b[38;5;241m=\u001b[39m np\u001b[38;5;241m.\u001b[39mempty((\u001b[38;5;241m0\u001b[39m, \u001b[38;5;241m0\u001b[39m, ndim))\n\u001b[1;32m    406\u001b[0m \u001b[38;5;28;01melse\u001b[39;00m:\n\u001b[0;32m--> 407\u001b[0m     data, shape_type \u001b[38;5;241m=\u001b[39m \u001b[43mextract_shape_type\u001b[49m\u001b[43m(\u001b[49m\u001b[43mdata\u001b[49m\u001b[43m,\u001b[49m\u001b[43m \u001b[49m\u001b[43mshape_type\u001b[49m\u001b[43m)\u001b[49m\n\u001b[1;32m    408\u001b[0m     data_ndim \u001b[38;5;241m=\u001b[39m get_shape_ndim(data)\n\u001b[1;32m    409\u001b[0m     \u001b[38;5;28;01mif\u001b[39;00m ndim \u001b[38;5;129;01mis\u001b[39;00m \u001b[38;5;129;01mnot\u001b[39;00m \u001b[38;5;28;01mNone\u001b[39;00m \u001b[38;5;129;01mand\u001b[39;00m ndim \u001b[38;5;241m!=\u001b[39m data_ndim:\n",
      "File \u001b[0;32m/opt/homebrew/lib/python3.9/site-packages/napari/layers/shapes/_shapes_utils.py:1014\u001b[0m, in \u001b[0;36mextract_shape_type\u001b[0;34m(data, shape_type)\u001b[0m\n\u001b[1;32m   1012\u001b[0m \u001b[38;5;66;03m# List of (vertices, shape_type) tuples\u001b[39;00m\n\u001b[1;32m   1013\u001b[0m \u001b[38;5;28;01melif\u001b[39;00m \u001b[38;5;28mlen\u001b[39m(data) \u001b[38;5;241m!=\u001b[39m \u001b[38;5;241m0\u001b[39m \u001b[38;5;129;01mand\u001b[39;00m \u001b[38;5;28mall\u001b[39m(\u001b[38;5;28misinstance\u001b[39m(datum, Tuple) \u001b[38;5;28;01mfor\u001b[39;00m datum \u001b[38;5;129;01min\u001b[39;00m data):\n\u001b[0;32m-> 1014\u001b[0m     shape_type \u001b[38;5;241m=\u001b[39m [datum[\u001b[38;5;241m1\u001b[39m] \u001b[38;5;28;01mfor\u001b[39;00m datum \u001b[38;5;129;01min\u001b[39;00m data]\n\u001b[1;32m   1015\u001b[0m     data \u001b[38;5;241m=\u001b[39m [datum[\u001b[38;5;241m0\u001b[39m] \u001b[38;5;28;01mfor\u001b[39;00m datum \u001b[38;5;129;01min\u001b[39;00m data]\n\u001b[1;32m   1016\u001b[0m \u001b[38;5;28;01mreturn\u001b[39;00m data, shape_type\n",
      "File \u001b[0;32m/opt/homebrew/lib/python3.9/site-packages/napari/layers/shapes/_shapes_utils.py:1014\u001b[0m, in \u001b[0;36m<listcomp>\u001b[0;34m(.0)\u001b[0m\n\u001b[1;32m   1012\u001b[0m \u001b[38;5;66;03m# List of (vertices, shape_type) tuples\u001b[39;00m\n\u001b[1;32m   1013\u001b[0m \u001b[38;5;28;01melif\u001b[39;00m \u001b[38;5;28mlen\u001b[39m(data) \u001b[38;5;241m!=\u001b[39m \u001b[38;5;241m0\u001b[39m \u001b[38;5;129;01mand\u001b[39;00m \u001b[38;5;28mall\u001b[39m(\u001b[38;5;28misinstance\u001b[39m(datum, Tuple) \u001b[38;5;28;01mfor\u001b[39;00m datum \u001b[38;5;129;01min\u001b[39;00m data):\n\u001b[0;32m-> 1014\u001b[0m     shape_type \u001b[38;5;241m=\u001b[39m [\u001b[43mdatum\u001b[49m\u001b[43m[\u001b[49m\u001b[38;5;241;43m1\u001b[39;49m\u001b[43m]\u001b[49m \u001b[38;5;28;01mfor\u001b[39;00m datum \u001b[38;5;129;01min\u001b[39;00m data]\n\u001b[1;32m   1015\u001b[0m     data \u001b[38;5;241m=\u001b[39m [datum[\u001b[38;5;241m0\u001b[39m] \u001b[38;5;28;01mfor\u001b[39;00m datum \u001b[38;5;129;01min\u001b[39;00m data]\n\u001b[1;32m   1016\u001b[0m \u001b[38;5;28;01mreturn\u001b[39;00m data, shape_type\n",
      "\u001b[0;31mIndexError\u001b[0m: tuple index out of range"
     ]
    }
   ],
   "source": [
    "import numpy as np\n",
    "import napari\n",
    "\n",
    "# create a napari viewer\n",
    "viewer = napari.Viewer()\n",
    "\n",
    "# # create some random data\n",
    "# data = [np.random.rand(100,100)]\n",
    "# # add the data to the viewer\n",
    "# layer = viewer.add_image(data)\n",
    "\n",
    "data_2 = [((1161.11337076,), (6178.3830543,)), (7.358295430319473,)]\n",
    "\n",
    "# add an ellipse to the viewer\n",
    "ellipse_layer = viewer.add_shapes(\n",
    "    data_2,\n",
    "    shape_type='ellipse',\n",
    "    edge_width=2,\n",
    "    edge_color='red',\n",
    "    face_color='transparent',\n",
    ")\n",
    "\n",
    "# show the viewer\n",
    "napari.run()"
   ]
  },
  {
   "cell_type": "code",
   "execution_count": 62,
   "id": "19b4a48d-0e02-48cf-97da-e0ec798deccc",
   "metadata": {},
   "outputs": [],
   "source": [
    "def _get_ellipses_from_circles(centroids, radii):\n",
    "    \"\"\"Convert circles to ellipses.\n",
    "    Parameters\n",
    "    ----------\n",
    "    centroids\n",
    "        Centroids of the circles.\n",
    "    radii\n",
    "        Radii of the circles.\n",
    "    Returns\n",
    "    -------\n",
    "    NDArrayA\n",
    "        Ellipses.\n",
    "    \"\"\"\n",
    "    \n",
    "    ndim = centroids.shape[1]\n",
    "    assert ndim == 2\n",
    "    r = np.stack([radii] * ndim, axis=1)\n",
    "    lower_left = centroids - r\n",
    "    upper_right = centroids + r\n",
    "    r[:, 0] = -r[:, 0]\n",
    "    lower_right = centroids - r\n",
    "    upper_left = centroids + r\n",
    "    ellipses = np.stack([lower_left, lower_right, upper_right, upper_left], axis=1)\n",
    "\n",
    "    return ellipses\n"
   ]
  },
  {
   "cell_type": "code",
   "execution_count": null,
   "id": "d32da62b-25c5-49e7-8955-360d43399b83",
   "metadata": {},
   "outputs": [],
   "source": [
    "vertices = sdata.shapes[\"cells\"].geometry[0]\n",
    "radius = sdata.shapes[\"cells\"].radius[0]\n",
    "\n",
    "spatial = np.stack(vertices.x, vertices.y)\n",
    "ellipses = _get_ellipses_from_circles(centroids=spatial, radii=radius)\n",
    "\n"
   ]
  },
  {
   "cell_type": "code",
   "execution_count": null,
   "id": "3b3b2c9f-be13-42a1-8f14-6643ce40c560",
   "metadata": {},
   "outputs": [],
   "source": [
    "print(sdata.images[\"ST8059048_image\"].y)"
   ]
  },
  {
   "cell_type": "code",
   "execution_count": null,
   "id": "3e903080-96b3-4dc8-936f-29c2eb74c685",
   "metadata": {},
   "outputs": [],
   "source": [
    "from IPython.core.interactiveshell import InteractiveShell\n",
    "InteractiveShell.ast_node_interactivity = \"all\""
   ]
  },
  {
   "cell_type": "code",
   "execution_count": null,
   "id": "6573c71a-8468-4438-9609-005afa184180",
   "metadata": {},
   "outputs": [],
   "source": [
    "print(sdata)"
   ]
  },
  {
   "cell_type": "code",
   "execution_count": null,
   "id": "e1ed28d7-20f0-4d2d-9d6e-e76f3d835eb1",
   "metadata": {},
   "outputs": [],
   "source": [
    "interactive = Interactive(sdata)\n",
    "interactive.run()"
   ]
  },
  {
   "cell_type": "code",
   "execution_count": null,
   "id": "5e2a09c7-f4f0-4d3c-acc3-b013fef78fc9",
   "metadata": {},
   "outputs": [],
   "source": []
  }
 ],
 "metadata": {
  "kernelspec": {
   "display_name": "Python 3 (ipykernel)",
   "language": "python",
   "name": "python3"
  },
  "language_info": {
   "codemirror_mode": {
    "name": "ipython",
    "version": 3
   },
   "file_extension": ".py",
   "mimetype": "text/x-python",
   "name": "python",
   "nbconvert_exporter": "python",
   "pygments_lexer": "ipython3",
   "version": "3.9.16"
  }
 },
 "nbformat": 4,
 "nbformat_minor": 5
}
